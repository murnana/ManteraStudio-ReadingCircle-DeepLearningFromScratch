{
 "cells": [
  {
   "cell_type": "markdown",
   "metadata": {},
   "source": [
    "## シグモイド関数\n",
    "\n",
    "$$\n",
    "    h(x) = \\frac{1} {1 + \\exp(-x)}\n",
    "$$\n",
    "\n",
    "$$\n",
    "    h(x) = \\frac{1} {1 + \\exp(-ax)}\n",
    "$$\n",
    "\n",
    "$a$をコントロールパラメータ(変更できる値)"
   ]
  },
  {
   "cell_type": "code",
   "execution_count": 1,
   "metadata": {},
   "outputs": [],
   "source": [
    "import numpy as np\n",
    "import matplotlib.pylab as plt\n",
    "\n",
    "def sigmoid(x, a):\n",
    "    \"\"\"\n",
    "    シグモイド関数\n",
    "    \n",
    "    Parameters\n",
    "    ----------\n",
    "    x: numpy.ndarray\n",
    "        入力xの配列\n",
    "    \"\"\"\n",
    "    return 1 / (1 + np.exp(-a * x))"
   ]
  },
  {
   "cell_type": "code",
   "execution_count": 2,
   "metadata": {},
   "outputs": [],
   "source": [
    "def step_function(x):\n",
    "    \"\"\"\n",
    "    入力xに対し、0 <= x の時は 0, x > 0 の時は1を返却する\n",
    "    ステップ関数\n",
    "    \n",
    "    Parameters\n",
    "    ----------\n",
    "    x: numpy.ndarray\n",
    "        入力xの配列\n",
    "    \"\"\"\n",
    "    y = x > 0\n",
    "    return y.astype(np.int)"
   ]
  },
  {
   "cell_type": "code",
   "execution_count": 5,
   "metadata": {},
   "outputs": [
    {
     "data": {
      "image/png": "[encoded data removed]",
      "text/plain": [
       "<Figure size 432x288 with 1 Axes>"
      ]
     },
     "metadata": {
      "needs_background": "light"
     },
     "output_type": "display_data"
    }
   ],
   "source": [
    "x = np.arange(-5.0, 5.0, 0.1)\n",
    "y1 = step_function(x)\n",
    "y2 = sigmoid(x, 5)\n",
    "y3 = sigmoid(x, 1)\n",
    "\n",
    "plt.plot(x, y1, label=\"ステップ関数\", ls=\"--\")\n",
    "plt.plot(x, y2, label=\"シグモイド関数\")\n",
    "plt.plot(x, y3, label=\"シグモイド関数\")\n",
    "plt.ylim(-0.1, 1.1)\n",
    "plt.show()"
   ]
  },
  {
   "cell_type": "markdown",
   "metadata": {},
   "source": [
    "a の値を大きくしていくと、ステップ関数に近づく"
   ]
  },
  {
   "cell_type": "markdown",
   "metadata": {},
   "source": [
    "## なめらかとは\n",
    "\n",
    "数学で、「連続した」という用語がある。値が連続していることを意味していて、数字が途切れたりしないことを言う。\n",
    "\n",
    "「なめらか」というのは、連続した値であることと、微分が可能であるであることを言う。\n",
    "\n",
    "ステップ関数、ReLU関数は微分できない。(ニューラルネットワークでは、ReLUを無理やり微分している)"
   ]
  },
  {
   "cell_type": "markdown",
   "metadata": {},
   "source": [
    "* ReLUにもいろいろ"
   ]
  }
 ],
 "metadata": {
  "kernelspec": {
   "display_name": "Python 3",
   "language": "python",
   "name": "python3"
  },
  "language_info": {
   "codemirror_mode": {
    "name": "ipython",
    "version": 3
   },
   "file_extension": ".py",
   "mimetype": "text/x-python",
   "name": "python",
   "nbconvert_exporter": "python",
   "pygments_lexer": "ipython3",
   "version": "3.8.3"
  }
 },
 "nbformat": 4,
 "nbformat_minor": 4
}
