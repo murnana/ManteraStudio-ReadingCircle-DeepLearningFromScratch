{
 "cells": [
  {
   "cell_type": "markdown",
   "metadata": {},
   "source": [
    "# 畳み込み層"
   ]
  },
  {
   "cell_type": "markdown",
   "metadata": {},
   "source": [
    "全結合層の問題点は、データの形状が無視されること\n",
    "\n",
    "例えば画像の場合、縦、横、チャンネル(RGB)の3次元の形状を持っているが、全結合層に入力する際には、データを1次元にする必要がある。\n",
    "(MNISTデータの場合は、1ピクセルずつを左上から？順に入れてましたね)\n",
    "\n",
    "そのため、例えば隣接するピクセルについての情報をくみ取ることが難しい。\n",
    "\n",
    "畳み込み層の場合は3次元のデータとしての形状を維持しながら、ニューロン間のデータの受け渡しをすることができる。\n",
    "\n",
    "CNNでは、入力データを「**入力特徴マップ** (input feature map)」、出力データを「**出力特徴マップ** (output feature map)」と言い、合わせて「**特徴マップ** (feature map)」という場合がある。"
   ]
  },
  {
   "cell_type": "markdown",
   "metadata": {},
   "source": [
    "## 畳み込み演算\n",
    "\n",
    "画像処理でいう「フィルター演算」に相当  \n",
    "文献によれば「カーネル」という言葉で表現される場合がある。\n",
    "\n",
    "畳み込み演算は、入力データに対してフィルターのウィンドウを一定の間隔でスライドさせながら適用していく。\n",
    "\n",
    "![](../draw.io/images.drawio-2-Convolution.svg)\n",
    "\n",
    "フィルターの要素と入力の要素を乗算し、その和を入れる。\n",
    "この計算を**積和演算**という。\n",
    "\n",
    "CNNの場合、「重み」はフィルターのパラメータです。「バイアス」もあります。\n",
    "\n",
    "バイアスはフィルターで計算した後に、各マス目に加算します。"
   ]
  },
  {
   "cell_type": "markdown",
   "metadata": {},
   "source": [
    "## パディング\n",
    "\n",
    "次の畳み込み層の処理を行う前に、入力データの周囲に固定のデータを埋める。これを「**パディング** (padding)」という。\n",
    "\n",
    "![](../draw.io/images.drawio-2-padding.svg)"
   ]
  }
 ],
 "metadata": {
  "kernelspec": {
   "display_name": "Python 3",
   "language": "python",
   "name": "python3"
  },
  "language_info": {
   "codemirror_mode": {
    "name": "ipython",
    "version": 3
   },
   "file_extension": ".py",
   "mimetype": "text/x-python",
   "name": "python",
   "nbconvert_exporter": "python",
   "pygments_lexer": "ipython3",
   "version": "3.8.3"
  }
 },
 "nbformat": 4,
 "nbformat_minor": 4
}
