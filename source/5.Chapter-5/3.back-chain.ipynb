{
 "cells": [
  {
   "cell_type": "markdown",
   "metadata": {},
   "source": [
    "# 逆伝播"
   ]
  },
  {
   "cell_type": "markdown",
   "metadata": {},
   "source": [
    "## 加算の場合の逆伝播\n",
    "\n",
    "加算の場合、上流の逆伝播がそのまま流れる。\n",
    "\n",
    "$z = x + y$という数式の、逆伝播を考えてみよう。\n",
    "\n",
    "この式の微分は以下の通りになる:  \n",
    "$$\n",
    "    \\frac{\\partial z}{\\partial x} = 1\\\\\n",
    "    \\frac{\\partial z}{\\partial y} = 1\n",
    "$$\n",
    "\n",
    "![加算の場合の逆伝播](../draw.io/images-back-chain-add.svg)"
   ]
  },
  {
   "cell_type": "markdown",
   "metadata": {},
   "source": [
    "## 乗算ノードの逆伝播\n",
    "\n",
    "乗算ノードでは、順伝播の入力信号が必要です。\n",
    "\n",
    "$z = xy$という式の微分は、  \n",
    "$$\n",
    "    \\frac{\\partial z} {\\partial x} = y \\\\\n",
    "    \\frac{\\partial z} {\\partial y} = x\n",
    "$$\n",
    "\n",
    "![加算の場合の逆伝播](../draw.io/images-back-chain-multiply.svg)"
   ]
  },
  {
   "cell_type": "markdown",
   "metadata": {},
   "source": [
    "## リンゴの買い物\n",
    "\n",
    "> 太郎くんはスーパーで$1$個$100$円のリンゴを$2$個買いました。支払う金額を求めなさい。ただし、消費税が$10$%適用されるものとします。\n",
    "\n",
    "支払う金額は、$100 \\times 2 \\times 1.1 = 220$です。ここから、以下3つの微分を求めます。\n",
    "\n",
    "* リンゴの値段に関する支払金額の微分\n",
    "* リンゴの個数に関する支払金額の微分\n",
    "* 消費税に関する支払金額の微分\n",
    "\n",
    "![加算の場合の逆伝播](../draw.io/images-back-chain-apple.svg)"
   ]
  }
 ],
 "metadata": {
  "kernelspec": {
   "display_name": "Python 3",
   "language": "python",
   "name": "python3"
  },
  "language_info": {
   "codemirror_mode": {
    "name": "ipython",
    "version": 3
   },
   "file_extension": ".py",
   "mimetype": "text/x-python",
   "name": "python",
   "nbconvert_exporter": "python",
   "pygments_lexer": "ipython3",
   "version": "3.8.3"
  }
 },
 "nbformat": 4,
 "nbformat_minor": 4
}
