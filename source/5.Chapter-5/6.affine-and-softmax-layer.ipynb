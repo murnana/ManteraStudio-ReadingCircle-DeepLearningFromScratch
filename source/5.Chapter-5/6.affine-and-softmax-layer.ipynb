{
 "cells": [
  {
   "cell_type": "markdown",
   "metadata": {},
   "source": [
    "# Affine / Softmax レイヤの実装"
   ]
  },
  {
   "cell_type": "markdown",
   "metadata": {},
   "source": [
    "## Affineレイヤ\n",
    "\n",
    "バッチ処理などで行列の積を使ったので、その計算を行うAffineレイヤを作成する\n",
    "\n",
    "![Affine](../draw.io/images.drawio-2-Affine.svg)\n",
    "\n",
    "\n",
    "\n",
    "## バッチ版Affineレイヤ\n",
    "\n",
    "バッチ版の場合、入力$X$の要素数が増えたり減ったりする。がバイアス$B$の要素数は固定なので、このバイアス$B$の逆要素をどうやって計算するのかがカギとなる。\n",
    "\n",
    "例えば、入力$x$のデータ数は10個だとしても、バイアス$b$は1個で、結果$y$は10個である。  \n",
    "しかし逆伝播は、入力$x$は10個に戻るが、バイアス$b$は1個に戻らなければならない。\n",
    "\n",
    "まず順伝播の計算から。"
   ]
  },
  {
   "cell_type": "code",
   "execution_count": 1,
   "metadata": {},
   "outputs": [
    {
     "name": "stdout",
     "output_type": "stream",
     "text": [
      "[[ 0  0  0]\n",
      " [10 10 10]]\n"
     ]
    }
   ],
   "source": [
    "import sys, os\n",
    "sys.path.append(os.path.abspath(os.path.join('..', 'sample')))\n",
    "import numpy as np\n",
    "\n",
    "X_dot_W = np.array([[0, 0, 0,], [10, 10, 10]])\n",
    "B = np.array([1, 2, 3])\n",
    "\n",
    "print(X_dot_W)"
   ]
  },
  {
   "cell_type": "code",
   "execution_count": 2,
   "metadata": {},
   "outputs": [
    {
     "data": {
      "text/plain": [
       "array([[ 1,  2,  3],\n",
       "       [11, 12, 13]])"
      ]
     },
     "execution_count": 2,
     "metadata": {},
     "output_type": "execute_result"
    }
   ],
   "source": [
    "X_dot_W + B"
   ]
  },
  {
   "cell_type": "markdown",
   "metadata": {},
   "source": [
    "ここから、逆伝播を考える。\n",
    "\n",
    "バイアス$B$は、入力$X$のそれぞれの要素に対して加算される。そのため、逆伝播の値がバイアスの要素に集約される必要がある。\n",
    "\n",
    "まず、逆伝播による、前のノードの値を$dY$、計算したデータが2個だとすると"
   ]
  },
  {
   "cell_type": "code",
   "execution_count": 3,
   "metadata": {},
   "outputs": [
    {
     "name": "stdout",
     "output_type": "stream",
     "text": [
      "[[1 2 3]\n",
      " [4 5 6]]\n"
     ]
    }
   ],
   "source": [
    "dY = np.array([[1, 2, 3], [4, 5, 6]])\n",
    "print(dY)"
   ]
  },
  {
   "cell_type": "markdown",
   "metadata": {},
   "source": [
    "次に、$dY$をバイアス$B$からの逆伝播として、$dY$の結果を集約する。  \n",
    "データは2個だが、そのデータ内のそれぞれの要素の合計を求める。"
   ]
  },
  {
   "cell_type": "code",
   "execution_count": 4,
   "metadata": {},
   "outputs": [
    {
     "name": "stdout",
     "output_type": "stream",
     "text": [
      "[5 7 9]\n"
     ]
    }
   ],
   "source": [
    "dB = np.sum(dY, axis=0)\n",
    "print(dB)"
   ]
  },
  {
   "cell_type": "code",
   "execution_count": 5,
   "metadata": {},
   "outputs": [],
   "source": [
    "class Affine:\n",
    "    def __init__(self, W, b):\n",
    "        \"\"\"\n",
    "        重みとバイアスを初期化します\n",
    "        Attributes\n",
    "        ----------\n",
    "        W : numpy.array\n",
    "            重み\n",
    "        b : numpy.array\n",
    "            バイアス\n",
    "        x : numpy.array\n",
    "            順伝播で入力されるx\n",
    "        original_x_shape : numpy.array\n",
    "            xのデータ数\n",
    "        dW : numpy.array\n",
    "            Wからの逆伝搬\n",
    "        db : numpy.array\n",
    "            bからの逆伝播\n",
    "        \"\"\"\n",
    "        self.W =W\n",
    "        self.b = b\n",
    "        \n",
    "        self.x = None\n",
    "        self.original_x_shape = None\n",
    "        # 重み・バイアスパラメータの微分\n",
    "        self.dW = None\n",
    "        self.db = None\n",
    "\n",
    "    def forward(self, x):\n",
    "        \"\"\"\n",
    "        順伝播の計算をします\n",
    "        \n",
    "        Parameters\n",
    "        ----------\n",
    "        x : numpy.array\n",
    "            入力1\n",
    "\n",
    "        Returns\n",
    "        -------\n",
    "        out : numpy.array\n",
    "            計算結果\n",
    "        \"\"\"\n",
    "        # テンソル対応\n",
    "        self.original_x_shape = x.shape\n",
    "        x = x.reshape(x.shape[0], -1)\n",
    "        self.x = x\n",
    "\n",
    "        out = np.dot(self.x, self.W) + self.b\n",
    "\n",
    "        return out\n",
    "\n",
    "    def backward(self, dout):\n",
    "        \"\"\"\n",
    "        逆伝播の計算をします(乗算)\n",
    "        \n",
    "        Parameters\n",
    "        ----------\n",
    "        dout : int\n",
    "            逆伝播で上流から伝わってきた微分\n",
    "\n",
    "        Returns\n",
    "        -------\n",
    "        dx : int\n",
    "            入力2の微分\n",
    "        dy : int\n",
    "            入力1の微分\n",
    "        \"\"\"\n",
    "        dx = np.dot(dout, self.W.T)\n",
    "        self.dW = np.dot(self.x.T, dout)\n",
    "        self.db = np.sum(dout, axis=0)\n",
    "        \n",
    "        dx = dx.reshape(*self.original_x_shape)  # 入力データの形状に戻す（テンソル対応）\n",
    "        return dx"
   ]
  }
 ],
 "metadata": {
  "kernelspec": {
   "display_name": "Python 3",
   "language": "python",
   "name": "python3"
  },
  "language_info": {
   "codemirror_mode": {
    "name": "ipython",
    "version": 3
   },
   "file_extension": ".py",
   "mimetype": "text/x-python",
   "name": "python",
   "nbconvert_exporter": "python",
   "pygments_lexer": "ipython3",
   "version": "3.8.3"
  }
 },
 "nbformat": 4,
 "nbformat_minor": 4
}
