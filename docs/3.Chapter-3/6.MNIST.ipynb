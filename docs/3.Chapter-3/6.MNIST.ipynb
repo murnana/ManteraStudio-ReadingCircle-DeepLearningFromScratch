{
 "cells": [
  {
   "cell_type": "markdown",
   "metadata": {},
   "source": [
    "# 手書き数字認識"
   ]
  },
  {
   "cell_type": "markdown",
   "metadata": {},
   "source": [
    "機械学習で問題を解くときは、「学習」と「推論」の2つのフェーズで行います。  \n",
    "ニューラルネットワークでは、「学習」は「訓練データ(学習データ)」を使用して重みパラメーターの学習を行い、「推論」では学習した重みパラメーターを使って、入力データの分類を行います。"
   ]
  },
  {
   "cell_type": "markdown",
   "metadata": {},
   "source": [
    "## MNISTデータセット\n",
    "\n",
    "今回は、MNISTデータセット (えむにすと)と呼ばれる、機械学習の分野で最も有名なデータを使います。\n",
    "\n",
    "MNISTデータセットは、0から9までの数字画像から構成されています。\n",
    "\n",
    "* 28 x 28のグレー画像 (1チャンネル)\n",
    "* 1ピクセルに 0 ~ 255 までの値"
   ]
  },
  {
   "cell_type": "markdown",
   "metadata": {},
   "source": [
    "## データを表示してみる"
   ]
  },
  {
   "cell_type": "raw",
   "metadata": {},
   "source": [
    ".. include:: ./6.MNIST/mnist_show.py"
   ]
  },
  {
   "cell_type": "code",
   "execution_count": 1,
   "metadata": {},
   "outputs": [
    {
     "name": "stdout",
     "output_type": "stream",
     "text": [
      "label:  5\n",
      "img.shape:  (784,)\n",
      "img.shape:  (28, 28)\n"
     ]
    },
    {
     "data": {
      "image/png": "[encoded data removed]",
      "text/plain": [
       "<Figure size 432x288 with 1 Axes>"
      ]
     },
     "metadata": {
      "needs_background": "light"
     },
     "output_type": "display_data"
    }
   ],
   "source": [
    "# coding: utf-8\n",
    "import sys, os\n",
    "sys.path.append(os.path.abspath(os.path.join('..', 'sample')))\n",
    "\n",
    "import numpy as np\n",
    "from dataset.mnist import load_mnist # サンプルにあるPythonモジュール\n",
    "from PIL import Image\n",
    "import matplotlib.pyplot as plt\n",
    "\n",
    "\n",
    "def img_show(img):\n",
    "    '''\n",
    "    NumPy用になっているデータをPIL用イメージ画像に変換して、表示します\n",
    "    '''\n",
    "    pil_img = Image.fromarray(np.uint8(img))\n",
    "    # pil_img.show()\n",
    "    plt.imshow(pil_img, cmap='gray')\n",
    "\n",
    "# load_mnist で読み込む\n",
    "# (訓練画像、訓練ラベル), (テスト画像, テストラベル) という形式で MNISTデータを返す\n",
    "(x_train, t_train), (x_test, t_test) = load_mnist(flatten=True, normalize=False)\n",
    "\n",
    "# 訓練画像と訓練ラベルを取り出す\n",
    "img = x_train[0]\n",
    "label = t_train[0]\n",
    "print(\"label: \", label)\n",
    "\n",
    "# 訓練画像は flatten=True…データを1次元配列にしている\n",
    "print(\"img.shape: \", img.shape)\n",
    "\n",
    "# 形状を元の画像サイズに変形\n",
    "img = img.reshape(28, 28) \n",
    "print(\"img.shape: \", img.shape)\n",
    "\n",
    "# 画像を表示する\n",
    "img_show(img)"
   ]
  },
  {
   "cell_type": "markdown",
   "metadata": {},
   "source": [
    "## ニューラルネットワークの推論処理\n",
    "\n",
    "* 入力層は784\n",
    "    * 画像の大きさ$28 \\times 28 = 784$より\n",
    "* 出力層は10\n",
    "    * 0 ~ 9 の数字を出すため\n",
    "\n",
    "* 隠れ層は2つ、一つは50, もう一つは100\n",
    "    * 任意の値で設定可能"
   ]
  },
  {
   "cell_type": "code",
   "execution_count": 2,
   "metadata": {},
   "outputs": [
    {
     "name": "stdout",
     "output_type": "stream",
     "text": [
      "Accuracy:0.9352\n"
     ]
    }
   ],
   "source": [
    "# coding: utf-8\n",
    "import sys, os\n",
    "sys.path.append(os.path.abspath(os.path.join('..', 'sample')))\n",
    "import numpy as np\n",
    "import pickle\n",
    "from dataset.mnist import load_mnist\n",
    "from common.functions import sigmoid, softmax\n",
    "\n",
    "\n",
    "def get_data():\n",
    "    # 正規化されたデータとして前処理を行う\n",
    "    (x_train, t_train), (x_test, t_test) = load_mnist(normalize=True, flatten=True, one_hot_label=False)\n",
    "    return x_test, t_test\n",
    "\n",
    "\n",
    "def init_network():\n",
    "    with open(os.path.abspath(os.path.join('..', 'sample', 'ch03', \"sample_weight.pkl\")), 'rb') as f:\n",
    "        network = pickle.load(f)\n",
    "    return network\n",
    "\n",
    "\n",
    "def predict(network, x):\n",
    "    W1, W2, W3 = network['W1'], network['W2'], network['W3']\n",
    "    b1, b2, b3 = network['b1'], network['b2'], network['b3']\n",
    "\n",
    "    a1 = np.dot(x, W1) + b1\n",
    "    z1 = sigmoid(a1)\n",
    "    a2 = np.dot(z1, W2) + b2\n",
    "    z2 = sigmoid(a2)\n",
    "    a3 = np.dot(z2, W3) + b3\n",
    "    y = softmax(a3)\n",
    "\n",
    "    return y\n",
    "\n",
    "\n",
    "# MNIST データセットの取得\n",
    "x, t = get_data()\n",
    "\n",
    "# ニューラルネットワークの構築\n",
    "network = init_network()\n",
    "\n",
    "# MNISTデータの画像を分類し\n",
    "# 確率の高いものを予測結果に入れる\n",
    "accuracy_cnt = 0\n",
    "for i in range(len(x)):\n",
    "    y = predict(network, x[i])\n",
    "    p= np.argmax(y) # 最も確率の高い要素のインデックスを取得\n",
    "    if p == t[i]:\n",
    "        accuracy_cnt += 1\n",
    "\n",
    "# ニューラルネットワークの認識制度\n",
    "print(\"Accuracy:\" + str(float(accuracy_cnt) / len(x)))"
   ]
  },
  {
   "cell_type": "markdown",
   "metadata": {},
   "source": [
    "## バッチ処理\n",
    "\n",
    "* 入力データを複数にまとめて、一度に計算させる\n",
    "* 一つ一つ計算するよりは高速化が可能\n",
    "* まとまった入力データを「バッチ」という\n",
    "* バッチが多いと逆に遅くなったり、そもそもメモリが足りなくなったりする場合もあるので、必ずバッチ処理をしなければならない、というわけではない"
   ]
  },
  {
   "cell_type": "code",
   "execution_count": 3,
   "metadata": {},
   "outputs": [
    {
     "name": "stdout",
     "output_type": "stream",
     "text": [
      "Accuracy:0.9352\n"
     ]
    }
   ],
   "source": [
    "x, t = get_data()\n",
    "network = init_network()\n",
    "\n",
    "batch_size = 100 # バッチの数\n",
    "accuracy_cnt = 0\n",
    "\n",
    "for i in range(0, len(x), batch_size):\n",
    "    x_batch = x[i:i+batch_size]\n",
    "    y_batch = predict(network, x_batch)\n",
    "    p = np.argmax(y_batch, axis=1)\n",
    "    accuracy_cnt += np.sum(p == t[i:i+batch_size])\n",
    "\n",
    "print(\"Accuracy:\" + str(float(accuracy_cnt) / len(x)))"
   ]
  }
 ],
 "metadata": {
  "kernelspec": {
   "display_name": "Python 3",
   "language": "python",
   "name": "python3"
  },
  "language_info": {
   "codemirror_mode": {
    "name": "ipython",
    "version": 3
   },
   "file_extension": ".py",
   "mimetype": "text/x-python",
   "name": "python",
   "nbconvert_exporter": "python",
   "pygments_lexer": "ipython3",
   "version": "3.8.3"
  }
 },
 "nbformat": 4,
 "nbformat_minor": 4
}
