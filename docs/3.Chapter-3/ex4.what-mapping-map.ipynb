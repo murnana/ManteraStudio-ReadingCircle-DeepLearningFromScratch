{
 "cells": [
  {
   "cell_type": "markdown",
   "metadata": {},
   "source": [
    "# 写像とは"
   ]
  },
  {
   "cell_type": "markdown",
   "metadata": {},
   "source": [
    "> 写像（しゃぞう、英: mapping, map、 仏: application）とは、二つの集合が与えられたときに、一方の集合の各元に対し、他方の集合のただひとつの元を指定して結びつける対応のことである。函数（関数）、変換、作用素、射などが写像の同義語として用いられることもある。  \n",
    "> [写像 - Wikipedia](https://ja.wikipedia.org/wiki/%E5%86%99%E5%83%8F)"
   ]
  },
  {
   "cell_type": "markdown",
   "metadata": {},
   "source": [
    "> いま、$X$, $Y$を集合とします。$X$の要素を一つ決めると、$Y$の要素が一つ決まるような対応関係$f$を写像といい、$f:X \\rightarrow Y$と書きます。\n",
    ">\n",
    "> [写像とは](https://senkei.nomaki.jp/mapping.html)"
   ]
  }
 ],
 "metadata": {
  "kernelspec": {
   "display_name": "Python 3",
   "language": "python",
   "name": "python3"
  },
  "language_info": {
   "codemirror_mode": {
    "name": "ipython",
    "version": 3
   },
   "file_extension": ".py",
   "mimetype": "text/x-python",
   "name": "python",
   "nbconvert_exporter": "python",
   "pygments_lexer": "ipython3",
   "version": "3.8.3"
  }
 },
 "nbformat": 4,
 "nbformat_minor": 4
}
