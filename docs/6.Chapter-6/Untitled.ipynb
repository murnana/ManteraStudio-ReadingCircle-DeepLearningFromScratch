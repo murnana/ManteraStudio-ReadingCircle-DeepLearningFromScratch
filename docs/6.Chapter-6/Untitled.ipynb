{
 "cells": [
  {
   "cell_type": "markdown",
   "metadata": {},
   "source": [
    "# ハイパーパラメータの検証\n",
    "\n",
    "外から与えるパラメータのこと。\n",
    "例えば、さっきのDropout率とか。\n",
    "\n",
    "## 検証データ\n",
    "\n",
    "学習データと、その学習が正しいのかというテストデータの他に、ハイパーパラメーターが正しいのかを確かめるために「検証データ」を用意する。\n",
    "\n",
    "検証データもランダムに選ばれる。\n",
    "\n",
    "\n",
    "## ハイパーパラメータの最適化\n",
    "\n",
    "1. ハイパーパラメータがとる範囲をざっくり決める\n",
    "   うまくいかないこともありうるが、だいたい決める\n",
    "   (範囲が大きいのはダメ。しんどい)\n",
    "   \n",
    "2. 初期値をランダムにkメル\n",
    "\n",
    "3. いっさいに学習して、検証データで評価する\n",
    "\n",
    "選んだらどんどん値を絞っていく。\n",
    "\n",
    "ハイパーパラメータは収束するまではやらない (時間がかかってしまうので)"
   ]
  }
 ],
 "metadata": {
  "kernelspec": {
   "display_name": "Python 3",
   "language": "python",
   "name": "python3"
  },
  "language_info": {
   "codemirror_mode": {
    "name": "ipython",
    "version": 3
   },
   "file_extension": ".py",
   "mimetype": "text/x-python",
   "name": "python",
   "nbconvert_exporter": "python",
   "pygments_lexer": "ipython3",
   "version": "3.8.3"
  }
 },
 "nbformat": 4,
 "nbformat_minor": 4
}
