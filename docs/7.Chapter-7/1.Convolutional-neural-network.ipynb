{
 "cells": [
  {
   "cell_type": "markdown",
   "metadata": {},
   "source": [
    "# CNN全体の構造"
   ]
  },
  {
   "cell_type": "markdown",
   "metadata": {},
   "source": [
    "畳み込みニューラルネットワーク  \n",
    "convolutional neural network: CNN\n",
    "\n",
    "画像認証、音声認識など、いたるところで使われている(いた？)らしい。"
   ]
  },
  {
   "cell_type": "markdown",
   "metadata": {},
   "source": [
    "今までのニューラルネットワークは、隣接する層のすべてのニューロン間で結合している\n",
    "-> 「**全結合** (fully-connected)」という\n",
    "\n",
    "今までは、この全結合を「Affineレイヤ」として実装、そのあとに活性化関数が続いていた\n",
    "\n",
    "CNNでは、「Convolutionレイヤ」 → 活性化関数 → 「Poolingレイヤ」となる  \n",
    "出力層に近づくと、通常の「Affineレイヤ」 → 活性化関数 となる"
   ]
  }
 ],
 "metadata": {
  "kernelspec": {
   "display_name": "Python 3",
   "language": "python",
   "name": "python3"
  },
  "language_info": {
   "codemirror_mode": {
    "name": "ipython",
    "version": 3
   },
   "file_extension": ".py",
   "mimetype": "text/x-python",
   "name": "python",
   "nbconvert_exporter": "python",
   "pygments_lexer": "ipython3",
   "version": "3.8.3"
  }
 },
 "nbformat": 4,
 "nbformat_minor": 4
}
